{
 "cells": [
  {
   "cell_type": "markdown",
   "metadata": {},
   "source": [
    "![alt text](uspas.png)\n",
    "# Fundamentals of Accelerator Physics and Technology with Simulations and Measurements Lab\n",
    "# Computer Lab: Longitudinal Motion\n",
    "##### Author: E. Harms, N. Neveu\n",
    "\n",
    "This worksheet demonstrates phase space motion in the longitudinal degree of freedom.   \n",
    "Questions to be answered and turned in for grade are typeset in **Bold** Type.\n",
    "\n",
    "### Python Notes: \n",
    "- Press shift+enter to execute a cell, or use the play button at the top of the window\n",
    "- Make sure you exectue cells in order, or re-exectue cells if you change something at the top of the notebook.\n",
    "- You can also exectue the whole notebook by using 'Run all cells' under the 'Run' tab.\n",
    "- '2**2' represents two squared, i.e. 2^2\n",
    "- A colon (:) means all values in that dimension. i.e. array[:,2] = all rows, second column\n",
    "----------"
   ]
  },
  {
   "cell_type": "markdown",
   "metadata": {},
   "source": [
    "## 1. Longitudinal Phase Space Motion\n",
    "\n",
    "The difference equations for longitudinal motion of a charged particle in a linac or synchrotron can be written as:\n",
    "\n",
    "$\\Delta E_{n+1} = \\Delta E_n + eV (sin \\phi_n - sin \\phi_s)$\n",
    "\n",
    "$\\phi_{n+1} = \\phi_n + \\frac{2 \\pi h \\eta}{E} \\Delta E_{n+1}$\n",
    "\n",
    "The following cells allow the user to enter various initial conditions (i.e. various $\\phi_0$, $\\Delta E_0$) of particles and “track” their motion for a specified number of iterations.\n",
    "\n",
    "In order to do the calculations in Mathcad, the equations had to be written such that the indices of order n appear on the right-hand side, and indices of order n+1 appear on the left. You should verify that the difference equations here are equivalent to the ones derived in class.\n",
    "\n",
    "In the worksheet program, the user can vary the parameters of the basic equations of motion to produce phase space plots in $\\Delta E_0 -\\phi$ coordinates.  \n",
    "The default parameters are typical of Fermilab Main Injector operation at its injection energy.  \n",
    "By inputting various initial conditions one can explore the phase space region under various parameter regimes.  \n",
    "For example: The synchronous phase is initialized to 0. For this value locate the separatrix.\n",
    "\n"
   ]
  },
  {
   "cell_type": "code",
   "execution_count": 47,
   "metadata": {},
   "outputs": [],
   "source": [
    "#Importing the libraries we need\n",
    "import numpy as np\n",
    "\n",
    "#Defining some variables\n",
    "#These will be used later\n",
    "h      = 588 #\n",
    "eV     = 1.28*10**-13  #joule\n",
    "GeV    = 1.6*10**-10   #10**9*eV\n",
    "E_s    = 8*GeV         # Energy\n",
    "phi_s  = np.deg2rad(0) #Synchronous phase\n",
    "g_t    = 21.8          # gamma_t \n",
    "eta    = 1/g_t**2 - (0.938*GeV)**2 / E_s**2\n",
    "beta_s = np.sqrt(1 - ( (0.938*GeV) / E_s )**2 ) # Relativistic beta\n",
    "k      = (2*np.pi*h*eta)/(beta_s**2 * E_s) # coefficent (2pi h eta)/ E"
   ]
  },
  {
   "cell_type": "code",
   "execution_count": 48,
   "metadata": {},
   "outputs": [],
   "source": [
    "#Tracking N Particles\n",
    "n      = 5 #number of particles\n",
    "nturns = 400 #number of turns to track\n",
    "phi_0  = [0,0,0,0,0] #Phase of particles\n",
    "dE_0   = [2,4,6,8,10] #Energy of particles in MeV \n",
    "\n",
    "#Calculating dE and phase for each particle for 400 turns.\n",
    "dE_vals = np.zeros((n,nturns)) #create array to hold data\n",
    "phi_vals = np.zeros((n,nturns))\n",
    "\n",
    "#Setting initial conditions:\n",
    "dE_vals[:,0]  = dE_0\n",
    "phi_vals[:,0] = phi_0\n",
    "\n",
    "#Calculating dE for each turn (i)\n",
    "for i in range(0,nturns-1):\n",
    "    radians = np.deg2rad(phi_vals[:,i])\n",
    "    #dE_n+1 = dE_n + eV* ( sin(phi_n) - sin(phi_s) )\n",
    "    dE_vals[:,i+1]  = dE_vals[:,i] + eV*( np.sin(radians) - np.sin(phi_s) )\n",
    "    \n",
    "    #phi_n+1 = phi + k * dE_n + eV ( sin(phi_n) - sin(phi_s) )\n",
    "    phi_vals[:,i+1] = radians + k* ( dE_vals[:,i] + eV* ( np.sin(radians) - np.sin(phi_s)) ) "
   ]
  },
  {
   "cell_type": "code",
   "execution_count": 49,
   "metadata": {},
   "outputs": [
    {
     "data": {
      "image/png": "[encoded data removed]",
      "text/plain": [
       "<matplotlib.figure.Figure at 0x7fdc8866bb00>"
      ]
     },
     "metadata": {
      "needs_background": "light"
     },
     "output_type": "display_data"
    }
   ],
   "source": [
    "# Importing plotting library\n",
    "from matplotlib import pyplot as plt\n",
    "\n",
    "degrees = np.rad2deg(phi_vals)\n",
    "plt.plot(degrees,dE_vals, '.')\n",
    "#plt.yaxes(1.95,2.2)\n",
    "plt.show()"
   ]
  },
  {
   "cell_type": "markdown",
   "metadata": {},
   "source": [
    "**Q1) What value (approximately of $\\Delta E$ will the Radiofrequency system support under these conditions?**\n",
    "\n",
    "\n",
    "**Q2) What happens to the particles that find themselves outside of the separatrix – are they lost from the synchrotron?  \n",
    "Hint: Look at the motion of a particle that is very near the separatrix.**\n",
    "\n",
    "\n",
    "**Q3) How does the motion behave near the “unstable fixed points”?**\n",
    "- Change the synchronous phase, $\\phi_s$, to 30$^\\circ$ (what happens in a synchrotron when this phase change occurs?). Under these conditions...\n",
    "\n",
    "\n",
    "**Q4) What value (approximately) of $\\Delta E$ will the Radiofrequency system support now?**\n",
    "\n",
    "\n",
    "**Q5) What happens to the particles that find themselves outside of the separatrix – are they lost from the synchrotron?**\n",
    "\n",
    "\n",
    "**Q6) How does the motion behave near the “unstable fixed points”?**\n",
    "\n",
    "\n",
    "Next, leaving the other parameters as they are, change the energy of the particle, $E_s$,  \n",
    "from 8 GeV to 150 GeV. Where is the stable phase space region located now?  \n",
    "(note: the transition energy of the Main Injector is about 22; what happens at transition?).\n",
    "\n",
    "\n",
    "\n",
    "**Q7) What maximum $\\Delta E$ will the RF system support now?**"
   ]
  },
  {
   "cell_type": "markdown",
   "metadata": {},
   "source": [
    "The user should feel free to play with the parameters of the program.  \n",
    "Put in the parameters of you “favorite” accelerator and explore phase space.  \n",
    "Be sure to play with changing the scales of the plot axes in order to see the results.\n",
    "\n",
    "#### Optional: \n",
    "Since the difference equations are of a non-linear system, one can push the parameters until resonance islands, chaos, and other non-linear effects are found.  \n",
    "Go back to the “stationary bucket” case ($\\phi_s$ = 0): \n",
    "- Increase the voltage by a factor of 10 and look at the phase space; \n",
    "- another factor of 10; another; and so on. \n",
    "- Can you find other regions of stability in the phase space? \n",
    "- Is there a value of the voltage for which the entire phase space becomes unstable?"
   ]
  },
  {
   "cell_type": "markdown",
   "metadata": {},
   "source": [
    "----"
   ]
  },
  {
   "cell_type": "markdown",
   "metadata": {},
   "source": [
    "## 2. Synchrotron Tune vs. Oscillation Amplitude\n",
    "\n",
    "In \\#1, it should have been noticed that the motion i.e. the frequency at which particles circulate in phase space, slows down when the particle is near the separatrix, especially near the “unstable fixed points”. The Python library Numpy has a Fast Fourier Transform (FFT) function that allows one to analyze data for frequency content. \n",
    "The following cells are similar to the previous one, but tracks a single particle. The motion of that particle is then analyzed using the FFT function, and the frequency (or, in this case, the synchrotron “tune”) of the particle’s motion is estimated by looking at what tune value corresponds to the peak of the FFT coefficients.\n",
    "The synchrotron tune for particles with small oscillation amplitude is:\n",
    "\n",
    "$\\nu$\n",
    "\n",
    "This expression is reproduced in Python so that the result of the FFT can be directly compared with the analytical result obtained by solving the equations of motion of a particle’s longitudinal motion.\n",
    "\n",
    "- Track a particle for 254 turns (note: an FFT calculation requires that one track for 2n-2 turns, where n is an integer) \n",
    "- Use the initial conditions $\\phi_0 = 0$ and $\\Delta E_0 = 1$ MeV. \n",
    "- These should be the default values when the worksheet is loaded."
   ]
  },
  {
   "cell_type": "markdown",
   "metadata": {},
   "source": [
    "**Q8) What synchrotron tune does the FFT of the tracking data show? How does this compare with the analytically predicted value?**\n",
    "- Try varying the number of turns tracked, such as 126, 510, 2046, etc.\n",
    "\n",
    "**Q9) For what number of turns is the FFT result within 5% of the predicted result?**\n",
    "- Next, tracking over 1022 turns, slowly raise the initial $\\Delta E$ from 1 MeV (steps of 1- 2 MeV are good) and keep track of the synchrotron tune. \n",
    "- **How does the tune behave?** \n",
    "\n",
    "**Q10) Make a plot of $\\nu_{FFT}$ vs. $\\Delta E_0$ for $\\Delta E$ from 1 MeV to 30 MeV.**\n",
    "- Note the value of $\\Delta E$ at the separatrix.\n",
    "- Study the synchronous tune vs. amplitude for other synchronous phases, $\\phi_s$."
   ]
  },
  {
   "cell_type": "markdown",
   "metadata": {},
   "source": [
    "----"
   ]
  },
  {
   "cell_type": "markdown",
   "metadata": {},
   "source": [
    "## 3. Injection to Acceleration\n",
    "\n",
    "The section demonstrates the effects of non-adiabatic variation of system parameters. This program, tracks a single particle in longitudinal phase space, and varies the RF synchronous phase linearly from $\\phi_s=0$ (injection value) to a final value $\\phi_{sf}$ (equal to 30 ̊ in the worksheet) used for acceleration.\n",
    "\n",
    "The “injection porch” length – the time particles spend at the injection energy – is input with the parameter Nporch. The time it takes to reach the final acceleration rate is Nparab. The program plots $\\phi_s$ versus turn number. The phase space plot begins by plotting only the first 900 turns (controlled by Nf)."
   ]
  },
  {
   "cell_type": "code",
   "execution_count": 4,
   "metadata": {},
   "outputs": [],
   "source": [
    "#Defining variables\n",
    "\n",
    "Nporch = 0 #injection porch length\n",
    "Nparab = 0 #time to reach final acceleration rate\n",
    "Nf     = 900 #Number of turns "
   ]
  },
  {
   "cell_type": "markdown",
   "metadata": {},
   "source": [
    "**Q11) What is the synchrotron period in this example?**\n",
    "\n",
    "- Vary Nf from 900 to the final value of 3000 in steps of 300. \n",
    "- Note how the particle’s phase space trajectory follows the synchronous phase as it moves from 0 to 30 degrees. \n",
    "- Note also how the size of the particle’s phase space ellipse remains essentially constant along the way. Thus, its “longitudinal emittance” is preserved in the process. The phase changes slowly enough that the motion is said to remain adiabatic.\n",
    "- Next, change the “ramp parabola” i.e. decrease the number of turns it takes to make the RF synchronous phase reach 30 ̊. \n",
    "- Notice how the final particle emittance increases as the rate of phase change increases. \n",
    "- The process becomes non-adiabatic and the emittance is not preserved. \n",
    "- In general, if the motion is to be adiabatic, then the system parameters must change much more slowly than the period of the motion.\n",
    "\n",
    "**Q12) What is the approximate fewest number of turns one can make the phase change in and still preserve the initial emittance?**"
   ]
  },
  {
   "cell_type": "code",
   "execution_count": null,
   "metadata": {},
   "outputs": [],
   "source": []
  }
 ],
 "metadata": {
  "kernelspec": {
   "display_name": "Python 3",
   "language": "python",
   "name": "python3"
  },
  "language_info": {
   "codemirror_mode": {
    "name": "ipython",
    "version": 3
   },
   "file_extension": ".py",
   "mimetype": "text/x-python",
   "name": "python",
   "nbconvert_exporter": "python",
   "pygments_lexer": "ipython3",
   "version": "3.6.7"
  }
 },
 "nbformat": 4,
 "nbformat_minor": 2
}
