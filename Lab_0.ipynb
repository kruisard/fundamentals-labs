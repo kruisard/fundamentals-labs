{
 "cells": [
  {
   "cell_type": "markdown",
   "metadata": {},
   "source": [
    "![alt text](uspas.png)\n",
    "# Fundamentals of Accelerator Physics and Technology with Simulations and Measurements Lab\n",
    "# Lab 0: Setting up Python and JupyterLab\n",
    "### Notes: \n",
    "#### If you already have Python and JupyterLab installed on your laptop, you can skip this.\n",
    "#### You can use the lab computers if you do not want to install python on your laptop.\n",
    "----------"
   ]
  },
  {
   "cell_type": "markdown",
   "metadata": {},
   "source": [
    "## 1. Install python 3.x by downloading Anaconda. \n",
    "\n",
    "- Anaconda is a 'distribution' that contains python and many common libraries. \n",
    "- This package will have all the libraries you need for the labs. \n",
    "- Follow the installation instructions here (Choose your OS type on the left side of the screen): \n",
    "> https://docs.anaconda.com/anaconda/install/windows/\n",
    "----"
   ]
  },
  {
   "cell_type": "markdown",
   "metadata": {},
   "source": [
    "## 2. Check that your Python install is working.\n",
    "a) Open a terminal.\n",
    "- Mac: https://www.wikihow.com/Open-a-Terminal-Window-in-Mac\n",
    "- Windows: https://www.howtogeek.com/235101/10-ways-to-open-the-command-prompt-in-windows-10/\n",
    "\n",
    "b) Copy paste or type the following to check your version:\n",
    "> python --version\n",
    "\n",
    "- You should see a version number 3.x.x. \n",
    "----\n"
   ]
  },
  {
   "cell_type": "markdown",
   "metadata": {},
   "source": [
    "## 3. Install JupyterLab with Anaconda\n",
    "a) In your open terminal, copy/paste or type the following:\n",
    "> conda install -c conda-forge jupyterlab\n",
    "\n",
    "b) You can open JupyterLab using the same terminal. Try:\n",
    "> jupyter lab\n",
    "\n",
    "If that command doesn't work, you may need the version number of your python:\n",
    "> jupyter-3.x lab"
   ]
  },
  {
   "cell_type": "code",
   "execution_count": null,
   "metadata": {},
   "outputs": [],
   "source": []
  },
  {
   "cell_type": "markdown",
   "metadata": {},
   "source": []
  },
  {
   "cell_type": "code",
   "execution_count": null,
   "metadata": {},
   "outputs": [],
   "source": []
  },
  {
   "cell_type": "code",
   "execution_count": null,
   "metadata": {},
   "outputs": [],
   "source": []
  }
 ],
 "metadata": {
  "kernelspec": {
   "display_name": "Python 3",
   "language": "python",
   "name": "python3"
  },
  "language_info": {
   "codemirror_mode": {
    "name": "ipython",
    "version": 3
   },
   "file_extension": ".py",
   "mimetype": "text/x-python",
   "name": "python",
   "nbconvert_exporter": "python",
   "pygments_lexer": "ipython3",
   "version": "3.7.3"
  }
 },
 "nbformat": 4,
 "nbformat_minor": 2
}
