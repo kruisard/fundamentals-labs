{
 "cells": [
  {
   "cell_type": "markdown",
   "metadata": {},
   "source": [
    "![alt text](uspas.png)\n",
    "# Fundamentals of Accelerator Physics and Technology with Simulations and Measurements Lab\n",
    "# Computer Lab: Emittance Issues\n",
    "##### Author: K. Ruisard\n",
    "\n",
    "## We will be simulating beam transport in simple beamlines. To do this, we will be running the Elegant code in the [Sirepo](https://beta.sirepo.com) environment. Questions to be turned in for credit are in **bold**.\n",
    "### Python Notes: \n",
    "- You wont need much python specific code for this lab, but here are some tips:\n",
    "- Press shift+enter to execute a cell, or use the play button at the top of the window\n",
    "- Make sure you exectue cells in order, or re-exectue cells if you change something at the top of the notebook.\n",
    "- You can also exectue the whole notebook by using 'Run all cells' under the 'Run' tab.\n",
    "----------"
   ]
  },
  {
   "cell_type": "markdown",
   "metadata": {},
   "source": [
    "## 1. Setup\n",
    "\n",
    "At injection (or at the start of a simulation), there is an optimal spot-size and divergence for the beam known as the “matched condition.” In a periodic focusing structure (ie, FODO line), the matched solution will be periodic as well. \n",
    "\n",
    "We define the matched solution using the Twiss parameters β_x, β_y, α_x, α_y (the spotsize and angular divergence are related to the Twiss parameters through the beam emittance). In this part of the exercise we will calculate matched beam properties for a simple FODO transport line and observe the difference in matched and unmatched transport.\n",
    "\n",
    "| Species  | Election  |   \n",
    "|---|---| \n",
    "| Energy  | 1 GeV  |   \n",
    "|  X emittance | $\\epsilon_x = 6$ mm-mrad  |  \n",
    "|  Y emittance |  $\\epsilon_y = 6$ mm-mrad |  \n",
    "|  Quadrupole geometric strength | $K = 0.6$ m$^{-2}$|\n",
    "|  FODO cell length | $L = 5$ m|\n",
    "\n",
    "\n",
    "A) Open simulation “FODObeamline.” Copy it to your own session (there should be a prompt).\n",
    "> https://beta.sirepo.com/elegant#/source/LIq0KHJG\n",
    "\n",
    "This simulates a simple beamline composed of a sequence of FODO cells: \n",
    "- Focusing Quad \n",
    "- Drift \n",
    "- Defocusing Quad \n",
    "- Drift\n",
    "\n",
    "This simulation uses a matrix representation of all elements to propagate the Twiss parameters  β_x, β_y, α_x, α_y, as well as propagate orbits for a collection of particles that represent the beam distribution. We’re using 5000 particles to represent the beam. \n",
    "\n",
    "B) At the top of the page, click the \"Control\" tab, and look at the options.\n",
    "- The “twiss_output” module controls calculation of the Twiss parameters.\n",
    "- The “bunched_beam” module tells Elegant to generate a beam. \n",
    "- The “track” module tells Elegant to track it through the lattice. \n",
    "\n",
    "----"
   ]
  },
  {
   "cell_type": "markdown",
   "metadata": {},
   "source": [
    "## 2. Beamline Matching\n",
    "### A) Unmatched Beam \n",
    "\n",
    "Initially, the lattice functions are unmatched. We start with β_x = β_y = 4 m, α_x = α_y = 0 mid-cell (between quadrupoles). \n",
    "\n",
    "Under the “Visualization” Tab: \n",
    "- Run the simulation by selecting “Start New Simulation.”\n",
    "- In the plot “twiss_output” you should see that the lattice functions β_x, β_y propagated from the initial conditions are “unmatched\", i.e. the solutions are not periodic. \n",
    "- You should also see that the beam RMS sizes S_x,S_y  plotted in “sigma_output” resemble β_x, β_y but at a smaller, millimeter-level scale.\n"
   ]
  },
  {
   "cell_type": "markdown",
   "metadata": {},
   "source": [
    "### B) Solving for matched solution\n",
    "\n",
    "In the “Control” tab: \n",
    "- Edit the twiss_output command. Change “Matched” from “No” to “Yes.” \n",
    "- This instructs Elegant to search for the matched condition. \n",
    "- Save changes and re-run your simulation. (Make sure you are running the beamline “FODOcell”)\n",
    "\n",
    "From the matched lattice function, we can calculate phase advance: \n",
    "- $ψ_x=∫ds/β_x(s)$\n",
    "- Thankfully, Elegant calculates this for you. \n",
    "- **In the next cell, write down the X and Y phase advances for the single FODO cell. (Search for nuy and nux under “Output Parameters” and recall ψ=ν*2π)**\n"
   ]
  },
  {
   "cell_type": "markdown",
   "metadata": {},
   "source": [
    "ψ_x = \n",
    "\n",
    "ψ_y = "
   ]
  },
  {
   "cell_type": "markdown",
   "metadata": {},
   "source": [
    "These are the “phase advance per cell,” which is an important metric for characterizing transport properties of any periodic lattice. The phase advance has to be chosen to avoid instabilities and resonant conditions.\n",
    "Syphers exercise 3.12 derives these expressions for maximum and minimum betatron function for a FODO lattice in the thin-lens approximation: \n",
    "\n",
    "$β_{max}=L\\frac{1+sin⁡ \\frac{ψ}{2}}{sin⁡ψ}$\n",
    "\n",
    "$β_{min}=L \\frac{1-sin⁡ \\frac{ψ}{2}}{sin⁡ψ}$\n",
    "\n",
    "Answer the following questions:"
   ]
  },
  {
   "cell_type": "markdown",
   "metadata": {},
   "source": [
    "**In this cell, write the thins lens prediction and the calculation of β (min and max) in Elegant (look at twiss_output plot):**\n",
    "\n"
   ]
  },
  {
   "cell_type": "markdown",
   "metadata": {},
   "source": [
    "**What are the average, max and min RMS beam spot sizes for a matched beam in this lattice?**\n",
    "- Use the calculated Twiss parameters and recall that transverse size is $σ_x=√(β_x ϵ_x )$ \n",
    "- Hint: click on plot points to display values"
   ]
  },
  {
   "cell_type": "markdown",
   "metadata": {},
   "source": [
    "$<σ_x>_s$  =\n",
    "\n",
    "max $σ_x$ (s)=\n",
    "\n",
    "min $σ_x$ (s)=\n",
    "\n",
    "max⁡ ($σ_{x}/σ_{y}$)="
   ]
  },
  {
   "cell_type": "markdown",
   "metadata": {},
   "source": [
    "### C) Matched beam propagation down FODO beamline\n",
    "\n",
    "Now extend your simulation. The lattice “FODObeamline” has 20 repetitions of the same FODO cell. \n",
    "\n",
    "Under Tab:Visualization: \n",
    "- Select “FODObeamline” in the Beamline drop-down menu in the top left\n",
    "- Simulate the beam in this longer (100 m) lattice. \n",
    "- Note the periodicity of the beam envelope as calculated both by the Twiss calculation and particle tracking. \n",
    "\n",
    "**Confirm that the tune of this lattice is consistent with the 1-cell solution:**    "
   ]
  },
  {
   "cell_type": "markdown",
   "metadata": {},
   "source": [
    "Tune over 100 meters:\t\n",
    "\n",
    "Ψ_x= \n",
    "\n",
    "Ψ_y= "
   ]
  },
  {
   "cell_type": "markdown",
   "metadata": {},
   "source": [
    "Tune for 1 cell: \n",
    "\n",
    "Ψ_x/20= \n",
    "\n",
    "Ψ_y/20="
   ]
  },
  {
   "cell_type": "markdown",
   "metadata": {},
   "source": [
    "### D) Propagation of mismatched beam\n",
    "\n",
    "We will initialize our beam with a 10% mismatch and examine the effect this has on transport.  \n",
    "In the periodic solution, β_x = β_y= 7.206 meters and α_x = -α_y = 1.122. \n",
    "- You can verify $\\beta$ and $\\alpha$ by interacting with the twiss_output plot or downloading the data in CSV format.\n",
    "\n",
    "Under the “Control” Tab and “twiss_output” module: \n",
    "- Initialize a mismatched beam, by setting the following fields:\n",
    "\n",
    "| Parameter  | Value  |   \n",
    "|---|---| \n",
    "| Matched  | No |   \n",
    "|  Beta X  | 7.206 * 1.1 |  \n",
    "|  Alpha X | -1.178 |  \n",
    "|  Beta Y  | 7.206 * 1.1  |\n",
    "|  Alpha Y | 1.178 | \n",
    "\n",
    "\n",
    "You should observe that the envelope solution is not longer periodic with the cell length (5 m), but “beats”/ oscillates about the matched, stationary solution. "
   ]
  },
  {
   "cell_type": "markdown",
   "metadata": {},
   "source": [
    "**Count the (approximate) number of oscillations in the envelope over the 100 meter beamline. Write your answer here:** \n",
    "\n",
    "Hint, this is not the number of $\\sigma_x$ max or mins. This is the number of ocilations of the whole envelop, i.e. the answer is < 10."
   ]
  },
  {
   "cell_type": "markdown",
   "metadata": {},
   "source": [
    "The centroid oscillates at the betatron frequency, making ν oscillations per pass through a periodic structure. \n",
    "**How many oscillations does the centroid make in 100 m? Write your answer here:**\n",
    "\n",
    "Hint: Look at the “run_setup.centroid” plot and count the approximate number of oscillations in the centroid, or just refer to the tune under twiss_output. If you plot the centroid, you may need to adjust the plot axis.\n"
   ]
  },
  {
   "cell_type": "markdown",
   "metadata": {},
   "source": [
    "### E) Matched and mismatched beam in lattice with weaker focusing\n",
    "\n",
    "We’ll repeat the exercise for a case with weaker focusing than the previous example. We will reduce the quadrupole focusing term K but hold the emittance fixed, so in the RMS envelope equation the relative strength of the focusing term (proportional to K) against the defocusing emittance term (proportional to ϵ) is less:\n",
    "\n",
    "$\\frac{d^2 σ_x}{ds^2}=-K_x σ_x+  \\frac{ϵ_x^2}{σ_x^3}$\n",
    "\n",
    "As you will observe, the matched beam has a more symmetric aspect ratio but also a larger RMS size.\n",
    "\n",
    "Reduce your focusing strength to |k1|=0.2 m^(-2) for both quadrupoles. \n",
    "- Edit elements under the “Lattice” tab. \n",
    "- In simulation, **calculate the matched envelope values:**"
   ]
  },
  {
   "cell_type": "markdown",
   "metadata": {},
   "source": [
    "Ψ_x=     \n",
    "Ψ_y= \n",
    "\n",
    "max $σ_x$ (s)=  \n",
    "min $σ_x$ (s)=\n",
    "\n",
    "$<σ_x>_s$  =\n",
    "\n",
    "max⁡ ($σ_{x}/σ_{y}$)=\n",
    "\n",
    "----"
   ]
  },
  {
   "cell_type": "markdown",
   "metadata": {},
   "source": [
    "## 3. Dispersion and Chromaticity\n",
    "\n",
    "### A) Dispersion in FODO lattice\n",
    "\n",
    "So far we have simulated beamlines without dipoles. Dipoles create dispersion (η or D, depending who you talk to), which describes the evolution of transverse size for particles/beams that are off-momentum. Off-momentum particles experience a different force in the dipole than the design orbit, as they have different magnetic rigidity Bρ=p/q. Dispersion can be calculated as a function of s and can have a periodic (matched) solution, similar to the β and α functions.\n",
    "\n",
    "First, add a dipole SBEND element to your FODO cell (beamline “FODOcell”): \n",
    "- Replace 2 meter drift (D2) with two 0.75 meter drifts (D3) sandwiching a 0.5 m, 20 deg dipole (element CSBEND).\n",
    "- Under Tab: Control -> module: twiss_output, Restore Matched=Yes. \n",
    "- Change simulation to run over 1 cell (simulate beamline “FODOcell”). \n",
    "\n",
    "Observe dispersion $\\eta_x$ in twiss_output plot \n",
    "- hint: to see dispersion function at an appropriate scale, turn off β_x and β_y curves in plot edit dialog (pencil icon).\n",
    "\n",
    "Also observe the effect of dispersion in the beam moments (sigma_output) plot.  \n",
    "You should observe that Sy remains the same as before, while Sx has much larger maxima."
   ]
  },
  {
   "cell_type": "markdown",
   "metadata": {},
   "source": [
    "**What is minimum dispersion in this lattice?**\n",
    "\n",
    "min⁡ $\\eta_x=$ "
   ]
  },
  {
   "cell_type": "markdown",
   "metadata": {},
   "source": [
    "**Assuming a 0.1% energy spread in the beam, what is the horizontal beam size we expect in the focusing quadrupole QF? How does this compare to our beam size without energy spread?**\n",
    "\n",
    "hint: $\\sigma_x^2 = \\epsilon_x \\beta_𝑥+ \\eta^2 \\frac{\\Delta p}{p_0} $"
   ]
  },
  {
   "cell_type": "markdown",
   "metadata": {},
   "source": [
    "$\\sigma_x = $"
   ]
  },
  {
   "cell_type": "markdown",
   "metadata": {},
   "source": [
    "### B) Zero-dispersion insert\n",
    "\n",
    "Open simulation DispersionFree (copy the simulation):\n",
    "> https://beta.sirepo.com/elegant#/source/tzedA3Co\n",
    "\n",
    "The lattice cell in this simulation has two 20-degree bends and three quadrupoles.  \n",
    "The quadrupoles are initially set to zero-strength and matching is disabled.  \n",
    "- Run the simulation and observe the evolution of the dispersion $\\eta_x$ through the double bend.\n"
   ]
  },
  {
   "cell_type": "markdown",
   "metadata": {},
   "source": [
    "**What is $\\eta_x$ and $\\eta_x'$ at the end of the cell?**"
   ]
  },
  {
   "cell_type": "markdown",
   "metadata": {},
   "source": [
    "- “Turn on” the middle quadrupole (Q1) at 𝑘1=1 𝑚−2. Note the effect this has on the dispersion function.\n",
    "- Adjust the strength of Q1 to find the solution for which dispersion is zero after the two bends."
   ]
  },
  {
   "cell_type": "markdown",
   "metadata": {},
   "source": [
    "**What is the strength you found?** $k_1$ ="
   ]
  },
  {
   "cell_type": "markdown",
   "metadata": {},
   "source": [
    "Enable matching (Under in Control tab -> twiss_output command -> set “Matched” to “yes”).  \n",
    "- Run simulation; you should see that beamline is unstable, i.e. there are no periodic solutions. \n",
    "Let’s add some additional focusing to correct that.\n",
    "- “Turn on” the flanking quadrupoles by setting Q2: 𝑘1=1.3 𝑚−2 and Q3: 𝑘1=−1.6 𝑚−2. \n",
    "- Re-run to find matched solution.\n",
    "\n",
    "Congrats! You’ve made a double-bend achromat.  \n",
    "This is useful for light sources, where zero-dispersion drifts are used for placing radiation-generating inserts like undulators and wigglers."
   ]
  },
  {
   "cell_type": "markdown",
   "metadata": {},
   "source": [
    "### C) Tune in a ring\n",
    "\n",
    "- Repeat your cell 9 times to create a ring. \n",
    "- Propagate particles.\n",
    "- **Record x and y tunes (to 3 significant figures):**"
   ]
  },
  {
   "cell_type": "markdown",
   "metadata": {},
   "source": [
    "$\\nu_x = $   \n",
    "$\\nu_y = $"
   ]
  },
  {
   "cell_type": "markdown",
   "metadata": {},
   "source": [
    "**Did you expect the tunes to be split in the way that they are?  \n",
    "What is a nearby resonant stop-band (𝝂~𝒏𝒎 for integer m,n) that might be a concern for this lattice (for either plane x or y)?**\n",
    "\n",
    "Hint: consider only low-order resonances with m<=4 "
   ]
  },
  {
   "cell_type": "markdown",
   "metadata": {},
   "source": [
    "Note that this lattice still has chromaticity; that is, although off-momentum particles will not increase the beam size in the dispersion-free drifts, they will still feel different focusing strength and have a tune different from the on-momentum particles.  "
   ]
  },
  {
   "cell_type": "markdown",
   "metadata": {},
   "source": [
    "**For a 0.1% energy spread in the beam, what is the spread of tunes due to chromaticity?**\n",
    "\n",
    "$\\Delta \\nu_x = C_x \\frac{\\delta p}{p_0}$ (hint: in Elegant Twiss output, look for dnux/dp and dnuy/dp for chromaticity values) "
   ]
  },
  {
   "cell_type": "markdown",
   "metadata": {},
   "source": [
    "**Will this tune spread push particles onto the nearby low-order resonances identified above?**"
   ]
  },
  {
   "cell_type": "code",
   "execution_count": null,
   "metadata": {},
   "outputs": [],
   "source": []
  }
 ],
 "metadata": {
  "kernelspec": {
   "display_name": "Python 3",
   "language": "python",
   "name": "python3"
  },
  "language_info": {
   "codemirror_mode": {
    "name": "ipython",
    "version": 3
   },
   "file_extension": ".py",
   "mimetype": "text/x-python",
   "name": "python",
   "nbconvert_exporter": "python",
   "pygments_lexer": "ipython3",
   "version": "3.6.7"
  }
 },
 "nbformat": 4,
 "nbformat_minor": 2
}
